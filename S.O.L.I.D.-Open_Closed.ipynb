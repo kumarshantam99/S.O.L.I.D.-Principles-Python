{
 "cells": [
  {
   "cell_type": "code",
   "execution_count": 1,
   "metadata": {},
   "outputs": [],
   "source": [
    "class Employee:\n",
    "\n",
    "    def __init__(self,name):\n",
    "        self.__name=name\n",
    "\n",
    "    def get_name(self):\n",
    "        return self.__name\n",
    "    \n",
    "\n",
    "\n"
   ]
  },
  {
   "cell_type": "code",
   "execution_count": 2,
   "metadata": {},
   "outputs": [],
   "source": [
    "emplyee_bob=Employee('Bob')\n",
    "employee_james=Employee('James')"
   ]
  },
  {
   "cell_type": "code",
   "execution_count": 3,
   "metadata": {},
   "outputs": [],
   "source": [
    "accounts=['Bob']\n",
    "marketing=['James']\n",
    "\n",
    "def get_department(employee):\n",
    "    if employee.get_name() in accounts:\n",
    "        print('accounts')\n",
    "    elif employee.get_name() in marketing:\n",
    "        print('accounts')"
   ]
  },
  {
   "cell_type": "code",
   "execution_count": 4,
   "metadata": {},
   "outputs": [
    {
     "name": "stdout",
     "output_type": "stream",
     "text": [
      "accounts\n"
     ]
    }
   ],
   "source": [
    "get_department(emplyee_bob)"
   ]
  },
  {
   "cell_type": "code",
   "execution_count": 5,
   "metadata": {},
   "outputs": [],
   "source": [
    "employee_alice=Employee('Alice')"
   ]
  },
  {
   "cell_type": "code",
   "execution_count": 6,
   "metadata": {},
   "outputs": [],
   "source": [
    "finance=['Alice']\n",
    "def get_department(employee):\n",
    "    if employee.get_name() in accounts:\n",
    "        print('accounts')\n",
    "    elif employee.get_name() in marketing:\n",
    "        print('marketing')\n",
    "    elif employee.get_name() in finance:\n",
    "        print('finance')\n"
   ]
  },
  {
   "cell_type": "markdown",
   "metadata": {},
   "source": [
    "This violates Open closed principle as we had to modify the get_department function "
   ]
  },
  {
   "cell_type": "code",
   "execution_count": 7,
   "metadata": {},
   "outputs": [],
   "source": [
    "class Department:\n",
    "    def __init__(self,name):\n",
    "        self.__name=name\n",
    "        self.__employees=[]\n",
    "\n",
    "    def get_name(self):\n",
    "        return self.__name\n",
    "    def get_employees(self):\n",
    "        return self.__employees\n",
    "    def add_employee(self,employee):\n",
    "        return self.__employees.append(employee.get_name())"
   ]
  },
  {
   "cell_type": "code",
   "execution_count": 8,
   "metadata": {},
   "outputs": [],
   "source": [
    "class Employee:\n",
    "    \n",
    "    def __init__(self,name,department):\n",
    "        self.__name=name\n",
    "        self.__department=department\n",
    "\n",
    "        department.add_employee(self)\n",
    "\n",
    "    def get_name(self):\n",
    "        return self.__name\n",
    "    \n",
    "    def get_department(self):\n",
    "        return self.__department.get_name()\n",
    "    "
   ]
  },
  {
   "cell_type": "code",
   "execution_count": 9,
   "metadata": {},
   "outputs": [],
   "source": [
    "accounts=Department('accounts')\n",
    "marketing=Department('marketing')\n",
    "finance=Department('finance')"
   ]
  },
  {
   "cell_type": "code",
   "execution_count": 11,
   "metadata": {},
   "outputs": [],
   "source": [
    "emp_bob=Employee('Bob',accounts)"
   ]
  },
  {
   "cell_type": "code",
   "execution_count": 12,
   "metadata": {},
   "outputs": [
    {
     "data": {
      "text/plain": [
       "'accounts'"
      ]
     },
     "execution_count": 12,
     "metadata": {},
     "output_type": "execute_result"
    }
   ],
   "source": [
    "emp_bob.get_department()"
   ]
  },
  {
   "cell_type": "code",
   "execution_count": 13,
   "metadata": {},
   "outputs": [
    {
     "data": {
      "text/plain": [
       "['Bob']"
      ]
     },
     "execution_count": 13,
     "metadata": {},
     "output_type": "execute_result"
    }
   ],
   "source": [
    "accounts.get_employees()"
   ]
  },
  {
   "cell_type": "code",
   "execution_count": null,
   "metadata": {},
   "outputs": [],
   "source": []
  }
 ],
 "metadata": {
  "kernelspec": {
   "display_name": "base",
   "language": "python",
   "name": "python3"
  },
  "language_info": {
   "codemirror_mode": {
    "name": "ipython",
    "version": 3
   },
   "file_extension": ".py",
   "mimetype": "text/x-python",
   "name": "python",
   "nbconvert_exporter": "python",
   "pygments_lexer": "ipython3",
   "version": "3.11.5"
  }
 },
 "nbformat": 4,
 "nbformat_minor": 2
}
