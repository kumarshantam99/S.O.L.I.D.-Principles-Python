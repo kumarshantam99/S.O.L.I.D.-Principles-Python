{
 "cells": [
  {
   "cell_type": "markdown",
   "metadata": {},
   "source": [
    "Single Responsibility Pattern"
   ]
  },
  {
   "cell_type": "code",
   "execution_count": null,
   "metadata": {},
   "outputs": [],
   "source": [
    "class Employee:\n",
    "\n",
    "    def __init__(self, employee_id,name,department):\n",
    "        self.__employee_id=employee_id\n",
    "        self.__name=name\n",
    "        self.__department=department\n",
    "\n",
    "    def get_name(self):\n",
    "        pass\n",
    "\n",
    "    def get_department(self):\n",
    "        pass\n",
    "\n",
    "    def promote_employee(self):\n",
    "        pass\n",
    "\n",
    "    def transfer_employee(self):\n",
    "        pass\n",
    "\n",
    "    def save_to_database(self):\n",
    "        pass\n",
    "\n",
    "\n"
   ]
  },
  {
   "cell_type": "markdown",
   "metadata": {},
   "source": [
    "Here, we are putting too many functionalities in a single class- thus violating Single responsibility pattern\n",
    "\n"
   ]
  },
  {
   "cell_type": "code",
   "execution_count": 1,
   "metadata": {},
   "outputs": [],
   "source": [
    "class Department:\n",
    "\n",
    "    def __init__(self, department_id,name,function,head):\n",
    "        self.__department_id=department_id\n",
    "        self.__name=name\n",
    "        self.__function=function\n",
    "        self.__head=head\n",
    "\n",
    "    def get_name(self):\n",
    "        pass\n",
    "\n",
    "    def get_function(self):\n",
    "        pass\n",
    "\n",
    "    def get_head(self):\n",
    "        pass"
   ]
  },
  {
   "cell_type": "code",
   "execution_count": 2,
   "metadata": {},
   "outputs": [],
   "source": [
    "class Employee:\n",
    "\n",
    "    def __init__(self, employee_id,name,department):\n",
    "        self.__employee_id=employee_id\n",
    "        self.__name=name\n",
    "        self.__department=department\n",
    "\n",
    "    def get_name(self):\n",
    "        pass\n",
    "\n",
    "    def get_department(self):\n",
    "        pass"
   ]
  },
  {
   "cell_type": "code",
   "execution_count": 3,
   "metadata": {},
   "outputs": [],
   "source": [
    "class EmployeeDatabaseOperation:\n",
    "    def promote_employee(self):\n",
    "        pass\n",
    "\n",
    "    def transfer_employee(self):\n",
    "        pass\n",
    "\n",
    "    def save_to_database(self):\n",
    "        pass\n",
    "    def update_personal_details(self):\n",
    "        pass"
   ]
  },
  {
   "cell_type": "markdown",
   "metadata": {},
   "source": [
    "Another Implementation\n"
   ]
  },
  {
   "cell_type": "code",
   "execution_count": 4,
   "metadata": {},
   "outputs": [],
   "source": [
    "class DrawingTool:\n",
    "    def __init__(self,shape):\n",
    "        self.__shape=shape\n",
    "    \n",
    "    def draw_shape(self):\n",
    "        print('Drawing:',self.__shape.get_type())\n"
   ]
  },
  {
   "cell_type": "code",
   "execution_count": 8,
   "metadata": {},
   "outputs": [],
   "source": [
    "class Shape:\n",
    "    def __init__(self,shape_type):\n",
    "        self.__shape_type=shape_type\n",
    "        self.__drawing_tool=DrawingTool(self)\n",
    "\n",
    "    def get_type(self):\n",
    "        return self.__shape_type\n",
    "    \n",
    "    def draw(self):\n",
    "        self.__drawing_tool.draw_shape()\n",
    "\n",
    "    # def get_area(self):\n",
    "    #     pass\n"
   ]
  },
  {
   "cell_type": "code",
   "execution_count": 9,
   "metadata": {},
   "outputs": [],
   "source": [
    "class Rectangle(Shape): # Dervied class\n",
    "\n",
    "    def __init__(self, width, height):\n",
    "        Shape.__init__(self,'Rectangle')\n",
    "        self.__width=width\n",
    "        self.__height=height\n",
    "\n",
    "    def get_area(self):\n",
    "        return self.__width* self.__height\n",
    "    \n",
    "    "
   ]
  },
  {
   "cell_type": "code",
   "execution_count": 10,
   "metadata": {},
   "outputs": [
    {
     "data": {
      "text/plain": [
       "'Rectangle'"
      ]
     },
     "execution_count": 10,
     "metadata": {},
     "output_type": "execute_result"
    }
   ],
   "source": [
    "a=Rectangle(5,6)\n",
    "\n",
    "a.get_type()"
   ]
  },
  {
   "cell_type": "code",
   "execution_count": 11,
   "metadata": {},
   "outputs": [
    {
     "data": {
      "text/plain": [
       "30"
      ]
     },
     "execution_count": 11,
     "metadata": {},
     "output_type": "execute_result"
    }
   ],
   "source": [
    "a.get_area()"
   ]
  },
  {
   "cell_type": "code",
   "execution_count": 12,
   "metadata": {},
   "outputs": [
    {
     "name": "stdout",
     "output_type": "stream",
     "text": [
      "Drawing: Rectangle\n"
     ]
    }
   ],
   "source": [
    "a.draw()"
   ]
  },
  {
   "cell_type": "code",
   "execution_count": null,
   "metadata": {},
   "outputs": [],
   "source": []
  }
 ],
 "metadata": {
  "kernelspec": {
   "display_name": "base",
   "language": "python",
   "name": "python3"
  },
  "language_info": {
   "codemirror_mode": {
    "name": "ipython",
    "version": 3
   },
   "file_extension": ".py",
   "mimetype": "text/x-python",
   "name": "python",
   "nbconvert_exporter": "python",
   "pygments_lexer": "ipython3",
   "version": "3.11.5"
  }
 },
 "nbformat": 4,
 "nbformat_minor": 2
}
